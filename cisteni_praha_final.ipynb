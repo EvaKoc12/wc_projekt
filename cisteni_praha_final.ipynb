{
 "cells": [
  {
   "cell_type": "code",
   "execution_count": 2,
   "metadata": {},
   "outputs": [],
   "source": [
    "import json\n",
    "import pandas as pd\n",
    "import re\n",
    "import pyproj"
   ]
  },
  {
   "cell_type": "code",
   "execution_count": 3,
   "metadata": {},
   "outputs": [],
   "source": [
    "with open('WC_PRAHA.json', encoding='utf-8') as json_file:\n",
    "    zdroj_data = json.load(json_file)"
   ]
  },
  {
   "cell_type": "code",
   "execution_count": 4,
   "metadata": {},
   "outputs": [],
   "source": [
    "data_list = []\n",
    "\n",
    "for feature in zdroj_data['features']:\n",
    "    object_id = feature['properties']['OBJECTID']\n",
    "    address = feature['properties']['ADRESA']\n",
    "    opening_hours = feature['properties']['OTEVRENO']\n",
    "    price = feature['properties']['CENA']\n",
    "    longitude, latitude = feature[\"geometry\"][\"coordinates\"]\n",
    "    \n",
    "    data_list.append([object_id, address, opening_hours, price, longitude, latitude])\n"
   ]
  },
  {
   "cell_type": "code",
   "execution_count": 5,
   "metadata": {},
   "outputs": [],
   "source": [
    "\n",
    "df = pd.DataFrame(data_list, columns=['OBJECTID', 'ADRESA', 'OTEVÍRACÍ DOBA', 'CENA', 'LONGITUDE', 'LATITUDE'])"
   ]
  },
  {
   "cell_type": "code",
   "execution_count": 6,
   "metadata": {},
   "outputs": [
    {
     "name": "stderr",
     "output_type": "stream",
     "text": [
      "c:\\Users\\Admin\\anaconda3\\Lib\\site-packages\\pyproj\\crs\\crs.py:141: FutureWarning: '+init=<authority>:<code>' syntax is deprecated. '<authority>:<code>' is the preferred initialization method. When making the change, be mindful of axis order changes: https://pyproj4.github.io/pyproj/stable/gotchas.html#axis-order-changes-in-proj-6\n",
      "  in_crs_string = _prepare_from_proj_string(in_crs_string)\n",
      "c:\\Users\\Admin\\anaconda3\\Lib\\site-packages\\pyproj\\crs\\crs.py:141: FutureWarning: '+init=<authority>:<code>' syntax is deprecated. '<authority>:<code>' is the preferred initialization method. When making the change, be mindful of axis order changes: https://pyproj4.github.io/pyproj/stable/gotchas.html#axis-order-changes-in-proj-6\n",
      "  in_crs_string = _prepare_from_proj_string(in_crs_string)\n"
     ]
    }
   ],
   "source": [
    "\n",
    "krovak = pyproj.Proj(init=\"epsg:5514\")\n",
    "gps = pyproj.Proj(init=\"epsg:4326\")"
   ]
  },
  {
   "cell_type": "code",
   "execution_count": 7,
   "metadata": {},
   "outputs": [],
   "source": [
    "\n",
    "def trans_to_gps(row):\n",
    "    longitude, latitude = pyproj.transform(krovak, gps, row[\"LONGITUDE\"], row[\"LATITUDE\"])\n",
    "    return pd.Series([longitude, latitude], index=[\"LONGITUDE_GPS\", \"LATITUDE_GPS\"])"
   ]
  },
  {
   "cell_type": "code",
   "execution_count": 8,
   "metadata": {},
   "outputs": [
    {
     "name": "stderr",
     "output_type": "stream",
     "text": [
      "C:\\Users\\Admin\\AppData\\Local\\Temp\\ipykernel_15780\\2193602115.py:2: FutureWarning: This function is deprecated. See: https://pyproj4.github.io/pyproj/stable/gotchas.html#upgrading-to-pyproj-2-from-pyproj-1\n",
      "  longitude, latitude = pyproj.transform(krovak, gps, row[\"LONGITUDE\"], row[\"LATITUDE\"])\n"
     ]
    }
   ],
   "source": [
    "df[[\"LONGITUDE_GPS\", \"LATITUDE_GPS\"]] = df.apply(trans_to_gps, axis=1)"
   ]
  },
  {
   "cell_type": "code",
   "execution_count": 9,
   "metadata": {},
   "outputs": [
    {
     "data": {
      "text/plain": [
       "array(['po-ne 6:30-17:30', 'po-pá 7:05-19:20; so-ne 8:05-16:50',\n",
       "       'nonstop', 'po-ne 8:00-01:00', 'po-ne 7:00-22:00',\n",
       "       'po-ne 6:50-17:45', 'po-ne 9:00-21:00', 'po-ne 9-21 h',\n",
       "       'v době provozu školy-po dohodě',\n",
       "       'po-pá 6:00-21:00; so-ne 8:00-20:00', 'po-ne 9:00- 21:00', None,\n",
       "       'po-ne: 6:00-24:00', 'po a st 8:00-17:00', 'po-ne 9-23 h',\n",
       "       'po-ne 6-24 h', 'po-pá 6:00-21:00; so-ne 7:00-21:00',\n",
       "       'po-ne 9:00 - 21:00', 'po-pá 7-20 h; so-ne 8-19 h',\n",
       "       'po-čt, ne 6:30-23:30; pá-so 6:30-24:00', 'po-ne 6:00-24:00',\n",
       "       'po-pá 6:00-21:00; so-ne 8:00-21:00',\n",
       "       'po-pá 6:00-21:00; so-ne 9:00-15:00', 'po-pá 6-21 h; so-ne 8-20 h',\n",
       "       'po-ne 6:00-01:00', 'po-ne 05:00-23:30', 'po-pá 7:00-16:00',\n",
       "       'po-so 8:00-20:00', 'po-pá 8:00-16:00', 'po-ne 6:00-21:00',\n",
       "       'listopad prosinec leden únor 8:00-17:00,březen duben říjen+dušičky 8:00-18:00,květen-září 8:00-19:00',\n",
       "       'po-so 9:00-24:00; ne 10:00-24:00', 'po-ne 05:00-23:00',\n",
       "       'po-ne 10:00-20:00', '5:00-24:00', 'po-ne 02:45-00:30',\n",
       "       'po-ne 03:15-00:45',\n",
       "       'po-čt 8:00-22:30; pá 8:00-01:00; so 9:00-01:00; ne 10:00-01:00',\n",
       "       'po-čt 8:00-24:00; pá 8:00-01:00; so 9:00-01:00; ne 09:00-24:00',\n",
       "       'po-pá 8:00-24:00;  so 9:00-24:00; ne 10:00-23:00',\n",
       "       'po-čt 7:00-01:00; pá 7:00-02:00; so 9:00-02:00; ne 09:00-23:00',\n",
       "       'po-st 9:00-01:00; čt 9.00-06.00; pá-so nonstop; ne 00:00-01:00',\n",
       "       'po-ne  10:00-20:00',\n",
       "       'po 13:00-20:00; út-pá 9:00-20:00; so 13:00-18:00',\n",
       "       'duben-září 9:00-20:00; říjen-březen 11:00-17:00',\n",
       "       'po-pá 8:00-21:00; so-ne 9:00-21:00',\n",
       "       'po 6:30-24:00; út-so nonstop; ne 00:00-03:00', 'po-ne 9:30-22:30',\n",
       "       'po-ne 12:00-21:00', 'po-so 5:45-17:15; ne 7:45-17:35',\n",
       "       'po-pá 5:40-17:00; so-ne 6:00-17:00', 'po-ne 6:15-17:30',\n",
       "       'po-čt, ne 7:00-17:20; pá 7:00-18:20; so 6:00-18:20',\n",
       "       'po-ne 9-18 h (léto); po-ne 9-16 h(zima)',\n",
       "       'po-pá 6:00-23:00; so-ne 8:00-23:00', 'po-ne 9:00-20:00',\n",
       "       'po-so 9:00-20:00, ne 10:00-19:00', 'po-čt 9:00-20:00',\n",
       "       'po-ne 9-19 h', 'po-ne 11:00-23:00 ',\n",
       "       'po-ne 9:00-21:00 (léto); po-ne 9:00-19:00 (zima)',\n",
       "       'květen-září 10:00-19:00; říjen-duben 10:00-18:00',\n",
       "       'po-ne 8-22 h (léto); po-ne 8-19 h (zima)', 'po-ne 8:00-19:00',\n",
       "       'duben-září 10:00-22:00; říjen a březen 10:00-20:00; listopad-únor 10:00-18:00',\n",
       "       'po-čt 9-19 h; pá-ne 9-20.30 h',\n",
       "       'po-pá 7:00-01:00; so-ne 7:00-02:00', 'po-ne 11:00-23:00',\n",
       "       'duben-říjen 9:15-20:00; listopad-březen 9:15-18:00',\n",
       "       'po-pá 9:00-20:00; so 9:00-18:00; ne 10:00-18:00',\n",
       "       'po-čt 8-18 h; pá 8-16 h',\n",
       "       'po a st 8-18 h; út a čt 8-16 h, pá 8-14 h', 'po-ne 8:00-23:00',\n",
       "       'po-st 7:00-24:00; čt-ne nonstop',\n",
       "       'po-pá 6:00-20:00 h; so-ne 7:00-20:00h',\n",
       "       'po-ne 9-21 h (léto); po-ne 9-19.30 h (zima)', 'po-ne 10-20 h',\n",
       "       'po-ne nonstop', 'po-pá 7:00-05:00 h; so-ne nonstop',\n",
       "       'ne-st 09:00-21:00; čt-so 09:00-22:00',\n",
       "       'po-ne 15.dubna-14.září 9:00-21:00; 15.září-14.října 9:00-20:00; 15.října-14.dubna 9:00-19:00',\n",
       "       'po-ne 06:30-22:00', 'po-ne 07:00-22:00', 'po-ne 07:00-22:30',\n",
       "       'otevřeno při akcích v O2 Aréně',\n",
       "       'po,st 8:00-18:00,út,čt 8:00-15:30,pá 8:00-12:30',\n",
       "       'po-so 7:00-22:00, ne 8:00-22:00',\n",
       "       'po-pá 4:10-00:35; so 4:30-00:35; ne 4:55-00:35',\n",
       "       'denně 3:30-00:35', 'po-ne 7:00-01:00',\n",
       "       'po-pá 6:00-21:00; so-ne 6:00-20:00', 'po-ne 7:00 - 22:00',\n",
       "       'po-pá 6:20-18:15; so 6:20-15:30; ne 7:35-18:00',\n",
       "       'po-ne 6:00-1:00', 'po-ne 8:00-22:00 ',\n",
       "       'po-so 7:00-24:00; 8:00-24:00',\n",
       "       'po-pá 6:00-20:00; so-ne 8:00-20:00', 'po-ne 03:45-00:35',\n",
       "       'po-ne 7:00-24:00', '6:00 - 24:00 denně', 'nejasná',\n",
       "       'po-čt 6:00-2:00; pá 6:00-5:00; so 7:00-5:00; ne 7:00-02:00',\n",
       "       'po-pá 6:00-21:00; so-ne 7:00-20:00', 'po - ne 7:00-23:00', ' ',\n",
       "       'po - ne 9:00-21:00', 'po-pá 9:00-21:00, so-ne 10:00-21:00',\n",
       "       'po-pá 6:00-20:00; so-ne 9:00-15:00', 'po-ne 10:00-18:00',\n",
       "       'duben-říjen 7:00-21:00',\n",
       "       'listopad-březen 6:00-22:00; duben-říjen 6:00-24:00',\n",
       "       'IV - X 8:00 -19:00, XI - III 8:00 - 17:00 ',\n",
       "       'po-pá 7:00-23:00; so-ne 8:00-23:00', 'po-ne 8:00 - 22:00',\n",
       "       'po-ne 9:00-23:30', 'po-ne 7.30-20:00', 'po-ne 7:30-20:00',\n",
       "       'po-ne 7-21 h', 'po-ne 9:00-18:00', 'po-ne 9-17 h',\n",
       "       'po-ne 9-17.30 h', 'po-so 8:00-21:00, ne 9:00-20:00'], dtype=object)"
      ]
     },
     "execution_count": 9,
     "metadata": {},
     "output_type": "execute_result"
    }
   ],
   "source": [
    "hours = df['OTEVÍRACÍ DOBA']\n",
    "(hours.unique())"
   ]
  },
  {
   "cell_type": "code",
   "execution_count": 10,
   "metadata": {},
   "outputs": [],
   "source": [
    "for index, row in df.iterrows():\n",
    "    opening_time = row[\"OTEVÍRACÍ DOBA\"]\n",
    "    if opening_time is not None and \"nonstop\" in opening_time:\n",
    "        df.at[index, \"OTEVÍRACÍ DOBA\"] = \"po-ne 0:00-24:00\""
   ]
  },
  {
   "cell_type": "code",
   "execution_count": 11,
   "metadata": {},
   "outputs": [],
   "source": [
    "def uprav_oteviraci_dobu(oteviraci_doba):\n",
    "    if oteviraci_doba is not None and pd.notna(oteviraci_doba):\n",
    "        oteviraci_doba = oteviraci_doba.replace(' - ', '-').replace('h', ':00').replace(' ', '')\n",
    "        if any(form in oteviraci_doba for form in ['9-23h', '9-21h', '6-24h']):\n",
    "            cas = oteviraci_doba.split(' ')[-1]\n",
    "            return cas\n",
    "        else:\n",
    "            return oteviraci_doba\n",
    "    else:\n",
    "        return None"
   ]
  },
  {
   "cell_type": "code",
   "execution_count": 12,
   "metadata": {},
   "outputs": [],
   "source": [
    "df[\"PRACOVNÍ DNY\"] = None\n",
    "df[\"VÍKEND\"] = None\n",
    "\n",
    "for index, row in df.iterrows():\n",
    "    opening_time = row[\"OTEVÍRACÍ DOBA\"]\n",
    "    if isinstance(opening_time, str): \n",
    "        time_ranges = opening_time.split(\";\")\n",
    "        for time_range in time_ranges:\n",
    "            if \"po-pá\" in time_range:\n",
    "                if df.at[index, \"PRACOVNÍ DNY\"] is None:\n",
    "                    df.at[index, \"PRACOVNÍ DNY\"] = time_range\n",
    "            if \"po-ne\" in time_range:\n",
    "                if df.at[index, \"PRACOVNÍ DNY\"] is None:\n",
    "                    df.at[index, \"PRACOVNÍ DNY\"] = time_range\n",
    "                if df.at[index, \"VÍKEND\"] is None:\n",
    "                    df.at[index, \"VÍKEND\"] = time_range"
   ]
  },
  {
   "cell_type": "code",
   "execution_count": 13,
   "metadata": {},
   "outputs": [],
   "source": [
    "for index, row in df.iterrows():\n",
    "    opening_time = row[\"OTEVÍRACÍ DOBA\"]\n",
    "    if isinstance(opening_time, str):  \n",
    "        time_ranges = opening_time.split(\";\")\n",
    "        for time_range in time_ranges:\n",
    "            if \"so-ne\" in time_range:\n",
    "                if pd.isna(df.at[index, \"VÍKEND\"]):  \n",
    "                    df.at[index, \"VÍKEND\"] = time_range"
   ]
  },
  {
   "cell_type": "code",
   "execution_count": 14,
   "metadata": {},
   "outputs": [],
   "source": [
    "def extrahuj_cas(oteviraci_doba):\n",
    "    if oteviraci_doba is not None and pd.notna(oteviraci_doba):\n",
    "        if 'h' in oteviraci_doba:\n",
    "            cas = oteviraci_doba.replace('h', ':00').replace(' ', '')\n",
    "        else:\n",
    "            cas = oteviraci_doba\n",
    "        cas_od_do = cas.split(' ')[-1].split('-')\n",
    "        cas_od = cas_od_do[0] if len(cas_od_do) > 1 else None\n",
    "        cas_do = cas_od_do[1] if len(cas_od_do) > 1 else None\n",
    "        return cas_od, cas_do\n",
    "    else:\n",
    "        return None, None\n",
    "\n",
    "\n",
    "df['OTEVRENO_OD_PD'] = df['PRACOVNÍ DNY'].apply(lambda x: extrahuj_cas(x)[0])\n",
    "df['OTEVRENO_DO_PD'] = df['PRACOVNÍ DNY'].apply(lambda x: extrahuj_cas(x)[1])\n",
    "\n",
    "df['OTEVRENO_OD_VIKEND'] = df['VÍKEND'].apply(lambda x: extrahuj_cas(x)[0])\n",
    "df['OTEVRENO_DO_VIKEND'] = df['VÍKEND'].apply(lambda x: extrahuj_cas(x)[1])\n",
    "\n"
   ]
  },
  {
   "cell_type": "code",
   "execution_count": 15,
   "metadata": {},
   "outputs": [],
   "source": [
    "df['OTEVRENO_OD_PD'] = df['OTEVRENO_OD_PD'].str.replace('.', ':')\n",
    "df['OTEVRENO_DO_PD'] = df['OTEVRENO_DO_PD'].str.replace('.', ':')\n",
    "df['OTEVRENO_OD_VIKEND'] = df['OTEVRENO_OD_VIKEND'].str.replace('.', ':')\n",
    "df['OTEVRENO_DO_VIKEND'] = df['OTEVRENO_DO_VIKEND'].str.replace('.', ':')"
   ]
  },
  {
   "cell_type": "code",
   "execution_count": 16,
   "metadata": {},
   "outputs": [],
   "source": [
    "df['BEZBAR'] = None"
   ]
  },
  {
   "cell_type": "code",
   "execution_count": 17,
   "metadata": {},
   "outputs": [],
   "source": [
    "data_dict = df.to_dict(orient='records')\n",
    "\n",
    "with open('praha_ciste.json', 'w', encoding='utf-8') as json_file:\n",
    "    json.dump(data_dict, json_file, ensure_ascii=False)"
   ]
  }
 ],
 "metadata": {
  "kernelspec": {
   "display_name": "base",
   "language": "python",
   "name": "python3"
  },
  "language_info": {
   "codemirror_mode": {
    "name": "ipython",
    "version": 3
   },
   "file_extension": ".py",
   "mimetype": "text/x-python",
   "name": "python",
   "nbconvert_exporter": "python",
   "pygments_lexer": "ipython3",
   "version": "3.11.5"
  }
 },
 "nbformat": 4,
 "nbformat_minor": 2
}
