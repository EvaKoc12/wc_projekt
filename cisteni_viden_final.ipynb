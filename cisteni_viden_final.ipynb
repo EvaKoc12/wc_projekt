{
 "cells": [
  {
   "cell_type": "code",
   "execution_count": 1,
   "metadata": {},
   "outputs": [],
   "source": [
    "import json\n",
    "import pandas as pd\n",
    "import re\n",
    "import pyproj"
   ]
  },
  {
   "cell_type": "code",
   "execution_count": 2,
   "metadata": {},
   "outputs": [],
   "source": [
    "with open('WC_WIEN.json', encoding='utf-8') as json_file:\n",
    "    zdroj_data = json.load(json_file)"
   ]
  },
  {
   "cell_type": "code",
   "execution_count": 3,
   "metadata": {},
   "outputs": [],
   "source": [
    "data_list = []\n",
    "\n",
    "for feature in zdroj_data['features']:\n",
    "    object_id = feature['properties']['OBJECTID']\n",
    "    address = feature['properties']['STRASSE']\n",
    "    opening_hours = feature['properties']['OEFFNUNGSZEIT']\n",
    "    barier = feature['properties']['ICON_TXT']\n",
    "    longitude, latitude = feature[\"geometry\"][\"coordinates\"]\n",
    "    \n",
    "    data_list.append([object_id, address, opening_hours, longitude, latitude, barier])\n"
   ]
  },
  {
   "cell_type": "code",
   "execution_count": 4,
   "metadata": {},
   "outputs": [],
   "source": [
    "\n",
    "df = pd.DataFrame(data_list, columns=['OBJECTID', 'ADRESA', 'OTEVÍRACÍ DOBA', 'LONGITUDE', 'LATITUDE','BEZBAR'])"
   ]
  },
  {
   "cell_type": "code",
   "execution_count": 5,
   "metadata": {},
   "outputs": [
    {
     "data": {
      "text/plain": [
       "array(['00:00-24:00 Uhr', '10:00-18:00 Uhr', 'täglich 10-18 Uhr',\n",
       "       'Di-Do und Sa-So 11:30 - 14:30 Fr 17:30 - 22:00',\n",
       "       'Mo-Sa 10:00-19:00 Uhr So 9:00-19 Uhr', '11:00-23:00 Uhr',\n",
       "       '9:00-21:00 Uhr', 'siehe Personalbetreuung',\n",
       "       'während der Betriebszeiten', '06:00-23:00 Uhr',\n",
       "       'Parköffnungszeiten', 'Mo-Fr 7:00-18:00 Uhr, Sa 8:00-18:00 Uhr',\n",
       "       'Mo-Sa 7:00-18:00 Uhr', 'Lokalöffnungszeiten'], dtype=object)"
      ]
     },
     "execution_count": 5,
     "metadata": {},
     "output_type": "execute_result"
    }
   ],
   "source": [
    "hours = df['OTEVÍRACÍ DOBA']\n",
    "(hours.unique())"
   ]
  },
  {
   "cell_type": "code",
   "execution_count": 6,
   "metadata": {},
   "outputs": [],
   "source": [
    "unikatni_oteviraci_doby = ['00:00-24:00 Uhr', '10:00-18:00 Uhr', 'täglich 10-18 Uhr', '06:00-23:00 Uhr', 'Mo-Sa 7:00-18:00 Uhr', '9:00-21:00 Uhr']\n",
    "\n",
    "df['PRACOVNÍ DNY'] = 'None'\n",
    "df['VÍKEND'] = 'None'\n",
    "\n",
    "for oteviraci_doba in unikatni_oteviraci_doby:\n",
    "    df.loc[df['OTEVÍRACÍ DOBA'].str.contains(oteviraci_doba), 'PRACOVNÍ DNY'] = oteviraci_doba\n",
    "    df.loc[df['OTEVÍRACÍ DOBA'].str.contains(oteviraci_doba), 'VÍKEND'] = oteviraci_doba\n",
    "\n"
   ]
  },
  {
   "cell_type": "code",
   "execution_count": 7,
   "metadata": {},
   "outputs": [
    {
     "data": {
      "text/html": [
       "<div>\n",
       "<style scoped>\n",
       "    .dataframe tbody tr th:only-of-type {\n",
       "        vertical-align: middle;\n",
       "    }\n",
       "\n",
       "    .dataframe tbody tr th {\n",
       "        vertical-align: top;\n",
       "    }\n",
       "\n",
       "    .dataframe thead th {\n",
       "        text-align: right;\n",
       "    }\n",
       "</style>\n",
       "<table border=\"1\" class=\"dataframe\">\n",
       "  <thead>\n",
       "    <tr style=\"text-align: right;\">\n",
       "      <th></th>\n",
       "      <th>OBJECTID</th>\n",
       "      <th>ADRESA</th>\n",
       "      <th>OTEVÍRACÍ DOBA</th>\n",
       "      <th>LONGITUDE</th>\n",
       "      <th>LATITUDE</th>\n",
       "      <th>BEZBAR</th>\n",
       "      <th>PRACOVNÍ DNY</th>\n",
       "      <th>VÍKEND</th>\n",
       "    </tr>\n",
       "  </thead>\n",
       "  <tbody>\n",
       "    <tr>\n",
       "      <th>0</th>\n",
       "      <td>300667</td>\n",
       "      <td>Rathauspark / Lichtenfelsgasse</td>\n",
       "      <td>00:00-24:00 Uhr</td>\n",
       "      <td>16.358469</td>\n",
       "      <td>48.209817</td>\n",
       "      <td>Barrierefrei</td>\n",
       "      <td>00:00-24:00 Uhr</td>\n",
       "      <td>00:00-24:00 Uhr</td>\n",
       "    </tr>\n",
       "    <tr>\n",
       "      <th>1</th>\n",
       "      <td>300668</td>\n",
       "      <td>SANIFAIR U-Bahn Station Karlsplatz</td>\n",
       "      <td>00:00-24:00 Uhr</td>\n",
       "      <td>16.368701</td>\n",
       "      <td>48.201239</td>\n",
       "      <td>Barrierefrei</td>\n",
       "      <td>00:00-24:00 Uhr</td>\n",
       "      <td>00:00-24:00 Uhr</td>\n",
       "    </tr>\n",
       "    <tr>\n",
       "      <th>2</th>\n",
       "      <td>300669</td>\n",
       "      <td>Badeteich Hirschstetten</td>\n",
       "      <td>00:00-24:00 Uhr</td>\n",
       "      <td>16.479620</td>\n",
       "      <td>48.242010</td>\n",
       "      <td>Barrierefrei</td>\n",
       "      <td>00:00-24:00 Uhr</td>\n",
       "      <td>00:00-24:00 Uhr</td>\n",
       "    </tr>\n",
       "    <tr>\n",
       "      <th>3</th>\n",
       "      <td>300670</td>\n",
       "      <td>Steinbauerpark / Steinbauergasse</td>\n",
       "      <td>00:00-24:00 Uhr</td>\n",
       "      <td>16.339466</td>\n",
       "      <td>48.181679</td>\n",
       "      <td>Barrierefrei</td>\n",
       "      <td>00:00-24:00 Uhr</td>\n",
       "      <td>00:00-24:00 Uhr</td>\n",
       "    </tr>\n",
       "    <tr>\n",
       "      <th>4</th>\n",
       "      <td>300671</td>\n",
       "      <td>Alois-Drasche-Park / Seisgasse</td>\n",
       "      <td>00:00-24:00 Uhr</td>\n",
       "      <td>16.367493</td>\n",
       "      <td>48.187047</td>\n",
       "      <td>Barrierefrei</td>\n",
       "      <td>00:00-24:00 Uhr</td>\n",
       "      <td>00:00-24:00 Uhr</td>\n",
       "    </tr>\n",
       "  </tbody>\n",
       "</table>\n",
       "</div>"
      ],
      "text/plain": [
       "   OBJECTID                              ADRESA   OTEVÍRACÍ DOBA  LONGITUDE  \\\n",
       "0    300667      Rathauspark / Lichtenfelsgasse  00:00-24:00 Uhr  16.358469   \n",
       "1    300668  SANIFAIR U-Bahn Station Karlsplatz  00:00-24:00 Uhr  16.368701   \n",
       "2    300669             Badeteich Hirschstetten  00:00-24:00 Uhr  16.479620   \n",
       "3    300670    Steinbauerpark / Steinbauergasse  00:00-24:00 Uhr  16.339466   \n",
       "4    300671      Alois-Drasche-Park / Seisgasse  00:00-24:00 Uhr  16.367493   \n",
       "\n",
       "    LATITUDE        BEZBAR     PRACOVNÍ DNY           VÍKEND  \n",
       "0  48.209817  Barrierefrei  00:00-24:00 Uhr  00:00-24:00 Uhr  \n",
       "1  48.201239  Barrierefrei  00:00-24:00 Uhr  00:00-24:00 Uhr  \n",
       "2  48.242010  Barrierefrei  00:00-24:00 Uhr  00:00-24:00 Uhr  \n",
       "3  48.181679  Barrierefrei  00:00-24:00 Uhr  00:00-24:00 Uhr  \n",
       "4  48.187047  Barrierefrei  00:00-24:00 Uhr  00:00-24:00 Uhr  "
      ]
     },
     "execution_count": 7,
     "metadata": {},
     "output_type": "execute_result"
    }
   ],
   "source": [
    "df.head()"
   ]
  },
  {
   "cell_type": "code",
   "execution_count": 8,
   "metadata": {},
   "outputs": [],
   "source": [
    "def extract_hours_minutes(value):\n",
    "    match = re.match(r'(\\d+:\\d+)-(\\d+:\\d+)', value)\n",
    "    if match:\n",
    "        return match.group(1), match.group(2)\n",
    "    else:\n",
    "        return None, None\n",
    "\n",
    "df[['OTEVRENO_OD_PD', 'OTEVRENO_DO_PD']] = df['PRACOVNÍ DNY'].apply(lambda x: pd.Series(extract_hours_minutes(x)))\n",
    "df[['OTEVRENO_OD_VIKEND', 'OTEVRENO_DO_VIKEND']] = df['VÍKEND'].apply(lambda x: pd.Series(extract_hours_minutes(x)))\n",
    "\n",
    "df = df.drop(['MINUTY_OD_PD', 'MINUTY_DO_PD', 'MINUTY_OD_VIKEND', 'MINUTY_DO_VIKEND'], axis=1, errors='ignore')\n"
   ]
  },
  {
   "cell_type": "code",
   "execution_count": 9,
   "metadata": {},
   "outputs": [],
   "source": [
    "data_dict = df.to_dict(orient='records')\n",
    "\n",
    "with open('viden_ciste.json', 'w', encoding='utf-8') as json_file:\n",
    "    json.dump(data_dict, json_file, ensure_ascii=False)"
   ]
  }
 ],
 "metadata": {
  "kernelspec": {
   "display_name": "base",
   "language": "python",
   "name": "python3"
  },
  "language_info": {
   "codemirror_mode": {
    "name": "ipython",
    "version": 3
   },
   "file_extension": ".py",
   "mimetype": "text/x-python",
   "name": "python",
   "nbconvert_exporter": "python",
   "pygments_lexer": "ipython3",
   "version": "3.11.5"
  }
 },
 "nbformat": 4,
 "nbformat_minor": 2
}
